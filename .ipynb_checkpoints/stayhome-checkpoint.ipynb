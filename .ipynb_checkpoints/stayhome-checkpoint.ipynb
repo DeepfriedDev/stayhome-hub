{
 "cells": [
  {
   "cell_type": "code",
   "execution_count": 1,
   "metadata": {},
   "outputs": [],
   "source": [
    "#!/usr/bin/python3\n",
    "\n",
    "import bs4 as bs\n",
    "import re, sys\n",
    "from urllib.request import Request, urlopen"
   ]
  },
  {
   "cell_type": "code",
   "execution_count": 2,
   "metadata": {},
   "outputs": [],
   "source": [
    "list_name = 'video-list.txt'\n",
    "full_list = open(list_name, 'w') "
   ]
  },
  {
   "cell_type": "code",
   "execution_count": 3,
   "metadata": {},
   "outputs": [],
   "source": [
    "# domain name\n",
    "domain = 'https://www.pornhub.com'"
   ]
  },
  {
   "cell_type": "code",
   "execution_count": 4,
   "metadata": {},
   "outputs": [],
   "source": [
    "# search\n",
    "search_criteria = '/video?c=8'\n",
    "page_number_cat = '&page='\n",
    "max_pages_to_crawl = 10"
   ]
  },
  {
   "cell_type": "code",
   "execution_count": 5,
   "metadata": {},
   "outputs": [],
   "source": [
    "# build the URL\n",
    "sub_url = domain + search_criteria + page_number_cat\n",
    "page_range = range(1,max_pages_to_crawl + 1)"
   ]
  },
  {
   "cell_type": "code",
   "execution_count": 6,
   "metadata": {},
   "outputs": [],
   "source": [
    "for current_page in page_range:\n",
    "    url = sub_url + str(current_page)\n",
    "\n",
    "    req = Request(url, headers = {\"User-Agent\": \"Mozilla/5.0\"})\n",
    "    response = urlopen(req)\n",
    "\n",
    "    soup = bs.BeautifulSoup(response,'lxml')\n",
    "\n",
    "    found_links = soup.find_all(\"div\", {\"class\":\"thumbnail-info-wrapper clearfix\"})\n",
    "\n",
    "    for current_link in found_links:\n",
    "        for video_found in current_link.find_all('a', {\"class\":\"\"}):\n",
    "            vids = video_found.get('href')\n",
    "            usable_url = re.match(\"\\/view_video.*\", vids)\n",
    "            if usable_url:\n",
    "                print(domain + vids, file = full_list)\n",
    "\n",
    "full_list.close()"
   ]
  },
  {
   "cell_type": "code",
   "execution_count": null,
   "metadata": {},
   "outputs": [],
   "source": []
  }
 ],
 "metadata": {
  "kernelspec": {
   "display_name": "Python 3",
   "language": "python",
   "name": "python3"
  },
  "language_info": {
   "codemirror_mode": {
    "name": "ipython",
    "version": 3
   },
   "file_extension": ".py",
   "mimetype": "text/x-python",
   "name": "python",
   "nbconvert_exporter": "python",
   "pygments_lexer": "ipython3",
   "version": "3.7.4"
  }
 },
 "nbformat": 4,
 "nbformat_minor": 2
}
